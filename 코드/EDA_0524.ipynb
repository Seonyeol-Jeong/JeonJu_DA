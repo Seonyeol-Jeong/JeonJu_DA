{
 "cells": [
  {
   "cell_type": "code",
   "execution_count": 1,
   "metadata": {},
   "outputs": [],
   "source": [
    "import pandas as pd"
   ]
  },
  {
   "cell_type": "code",
   "execution_count": 2,
   "metadata": {},
   "outputs": [],
   "source": [
    "df=pd.read_csv(\"C:/Users/wjdtj/OneDrive - dgu.ac.kr/데이터 분석/교통사고/교통사고 데이터 셋/구급출동_전주_2020_2022_최종.csv\",encoding='cp949')\n",
    "df.head()\n",
    "df.dropna(subset=['위치정보X','위치정보Y'],inplace=True)\n",
    "df = df.loc[df['환자연령']!=999,:]\n",
    "df.reset_index(drop=True,inplace=True)"
   ]
  },
  {
   "cell_type": "code",
   "execution_count": 3,
   "metadata": {},
   "outputs": [
    {
     "data": {
      "text/plain": [
       "사고발생장소\n",
       "도로            5571\n",
       "도로외교통지역        594\n",
       "집              343\n",
       "기타              84\n",
       "상업시설            37\n",
       "오락/문화시설         19\n",
       "학교/교육시설         18\n",
       "바다/강/산/논밭       17\n",
       "공장/산업/건설시설      13\n",
       "의료관련시설          11\n",
       "운동시설             7\n",
       "집단거주시설           7\n",
       "Name: count, dtype: int64"
      ]
     },
     "execution_count": 3,
     "metadata": {},
     "output_type": "execute_result"
    }
   ],
   "source": [
    "#사고발생장소\n",
    "df['사고발생장소'].value_counts()"
   ]
  },
  {
   "cell_type": "markdown",
   "metadata": {},
   "source": [
    "# 사고 발생 좌표 => 위도, 경도 변환"
   ]
  },
  {
   "cell_type": "code",
   "execution_count": 4,
   "metadata": {},
   "outputs": [
    {
     "name": "stderr",
     "output_type": "stream",
     "text": [
      "c:\\Users\\wjdtj\\anaconda3\\Lib\\site-packages\\pyproj\\crs\\crs.py:141: FutureWarning: '+init=<authority>:<code>' syntax is deprecated. '<authority>:<code>' is the preferred initialization method. When making the change, be mindful of axis order changes: https://pyproj4.github.io/pyproj/stable/gotchas.html#axis-order-changes-in-proj-6\n",
      "  in_crs_string = _prepare_from_proj_string(in_crs_string)\n",
      "c:\\Users\\wjdtj\\anaconda3\\Lib\\site-packages\\pyproj\\crs\\crs.py:141: FutureWarning: '+init=<authority>:<code>' syntax is deprecated. '<authority>:<code>' is the preferred initialization method. When making the change, be mindful of axis order changes: https://pyproj4.github.io/pyproj/stable/gotchas.html#axis-order-changes-in-proj-6\n",
      "  in_crs_string = _prepare_from_proj_string(in_crs_string)\n"
     ]
    }
   ],
   "source": [
    "from pyproj import Proj, transform\n",
    "\n",
    "proj_5181 = Proj(init='epsg:5181')\n",
    "proj_4326 = Proj(init='epsg:4326')\n",
    "\n",
    "def convert_5181_to_4326(x, y):\n",
    "    # EPSG:5181에서 EPSG:4326으로 변환\n",
    "    lon, lat = transform(proj_5181, proj_4326, x, y)\n",
    "    return lat, lon\n"
   ]
  },
  {
   "cell_type": "code",
   "execution_count": 6,
   "metadata": {},
   "outputs": [
    {
     "name": "stderr",
     "output_type": "stream",
     "text": [
      "C:\\Users\\wjdtj\\AppData\\Local\\Temp\\ipykernel_27316\\3218478162.py:8: FutureWarning: This function is deprecated. See: https://pyproj4.github.io/pyproj/stable/gotchas.html#upgrading-to-pyproj-2-from-pyproj-1\n",
      "  lon, lat = transform(proj_5181, proj_4326, x, y)\n"
     ]
    }
   ],
   "source": [
    "df['위도'],df['경도']=convert_5181_to_4326(df['위치정보X'], df['위치정보Y'])\n",
    "df = df[df['경도']>126.85]"
   ]
  },
  {
   "cell_type": "code",
   "execution_count": 99,
   "metadata": {},
   "outputs": [
    {
     "data": {
      "text/html": [
       "<div>\n",
       "<style scoped>\n",
       "    .dataframe tbody tr th:only-of-type {\n",
       "        vertical-align: middle;\n",
       "    }\n",
       "\n",
       "    .dataframe tbody tr th {\n",
       "        vertical-align: top;\n",
       "    }\n",
       "\n",
       "    .dataframe thead th {\n",
       "        text-align: right;\n",
       "    }\n",
       "</style>\n",
       "<table border=\"1\" class=\"dataframe\">\n",
       "  <thead>\n",
       "    <tr style=\"text-align: right;\">\n",
       "      <th></th>\n",
       "      <th>위도</th>\n",
       "      <th>경도</th>\n",
       "    </tr>\n",
       "  </thead>\n",
       "  <tbody>\n",
       "    <tr>\n",
       "      <th>0</th>\n",
       "      <td>35.877721</td>\n",
       "      <td>127.076733</td>\n",
       "    </tr>\n",
       "    <tr>\n",
       "      <th>1</th>\n",
       "      <td>35.845234</td>\n",
       "      <td>127.121687</td>\n",
       "    </tr>\n",
       "    <tr>\n",
       "      <th>2</th>\n",
       "      <td>35.806729</td>\n",
       "      <td>127.117422</td>\n",
       "    </tr>\n",
       "    <tr>\n",
       "      <th>3</th>\n",
       "      <td>35.837220</td>\n",
       "      <td>127.138885</td>\n",
       "    </tr>\n",
       "    <tr>\n",
       "      <th>4</th>\n",
       "      <td>35.832971</td>\n",
       "      <td>127.102032</td>\n",
       "    </tr>\n",
       "    <tr>\n",
       "      <th>5</th>\n",
       "      <td>35.847599</td>\n",
       "      <td>127.117781</td>\n",
       "    </tr>\n",
       "  </tbody>\n",
       "</table>\n",
       "</div>"
      ],
      "text/plain": [
       "          위도          경도\n",
       "0  35.877721  127.076733\n",
       "1  35.845234  127.121687\n",
       "2  35.806729  127.117422\n",
       "3  35.837220  127.138885\n",
       "4  35.832971  127.102032\n",
       "5  35.847599  127.117781"
      ]
     },
     "execution_count": 99,
     "metadata": {},
     "output_type": "execute_result"
    }
   ],
   "source": [
    "df.loc[0:5,\"위도\":\"경도\"]"
   ]
  },
  {
   "cell_type": "markdown",
   "metadata": {},
   "source": [
    "# 버스 정류소 데이터 셋"
   ]
  },
  {
   "cell_type": "code",
   "execution_count": 100,
   "metadata": {},
   "outputs": [
    {
     "name": "stdout",
     "output_type": "stream",
     "text": [
      "<class 'pandas.core.frame.DataFrame'>\n",
      "RangeIndex: 569 entries, 0 to 568\n",
      "Data columns (total 7 columns):\n",
      " #   Column  Non-Null Count  Dtype  \n",
      "---  ------  --------------  -----  \n",
      " 0   설치 지점명  569 non-null    object \n",
      " 1   지역(구)   569 non-null    object \n",
      " 2   지역(동)   534 non-null    object \n",
      " 3   세부주소    569 non-null    object \n",
      " 4   행정동     502 non-null    object \n",
      " 5   위도      569 non-null    float64\n",
      " 6   경도      569 non-null    float64\n",
      "dtypes: float64(2), object(5)\n",
      "memory usage: 31.2+ KB\n"
     ]
    }
   ],
   "source": [
    "df_bus=pd.read_csv(\"C:/Users/wjdtj/OneDrive - dgu.ac.kr/데이터 분석/교통사고/버스정류소/전주시 정류소 현황_20210426.csv\",encoding='cp949')\n",
    "df_bus.head()\n",
    "df_bus.info()"
   ]
  },
  {
   "cell_type": "code",
   "execution_count": 93,
   "metadata": {},
   "outputs": [],
   "source": [
    "df_bus_loc=bus.loc[:,['경도','위도']]\n",
    "df_bus_loc.head()\n",
    "df_bus.to_csv(\"C:/Users/wjdtj/OneDrive - dgu.ac.kr/데이터 분석/교통사고/0524/bus_0524.csv\")"
   ]
  },
  {
   "cell_type": "markdown",
   "metadata": {},
   "source": [
    "# 버스정류장과 사고 장소 사이의 거리 계산"
   ]
  },
  {
   "cell_type": "code",
   "execution_count": 35,
   "metadata": {},
   "outputs": [
    {
     "name": "stdout",
     "output_type": "stream",
     "text": [
      "Requirement already satisfied: numpy in c:\\users\\wjdtj\\anaconda3\\lib\\site-packages (1.26.4)\n",
      "Requirement already satisfied: scipy in c:\\users\\wjdtj\\anaconda3\\lib\\site-packages (1.11.4)\n",
      "Requirement already satisfied: pyproj in c:\\users\\wjdtj\\anaconda3\\lib\\site-packages (3.6.1)\n",
      "Requirement already satisfied: certifi in c:\\users\\wjdtj\\anaconda3\\lib\\site-packages (from pyproj) (2024.2.2)\n",
      "Note: you may need to restart the kernel to use updated packages.\n"
     ]
    }
   ],
   "source": [
    "pip install numpy scipy pyproj"
   ]
  },
  {
   "cell_type": "code",
   "execution_count": 103,
   "metadata": {},
   "outputs": [],
   "source": [
    "import numpy as np\n",
    "from scipy.spatial.distance import cdist\n",
    "from pyproj import Transformer\n",
    "from haversine import haversine"
   ]
  },
  {
   "cell_type": "code",
   "execution_count": 104,
   "metadata": {},
   "outputs": [],
   "source": [
    "def find_nearest_bus(df):\n",
    "    results = [] #결과를 담을 객체 생성\n",
    "\n",
    "    for _, pedestrian in df[['위도','경도']].iterrows(): # 보행자의 위치별로 시행\n",
    "        #가까운 학교와 최소 거리 초기화\n",
    "        min_distance = float('inf')\n",
    "        nearest_bus = None\n",
    "\n",
    "        for _, bus in df_bus.iterrows(): #보행자별 각 정류장 시행\n",
    "            bus_location = (bus['위도'], bus['경도'])\n",
    "            pedestrian_location = (pedestrian['위도'], pedestrian['경도'])\n",
    "\n",
    "            #거리계산\n",
    "            distance = haversine(pedestrian_location, bus_location, unit='m') #거리 기준 변환가능\n",
    "            \n",
    "            if distance < min_distance: #최소거리와 정류장을 담음\n",
    "                min_distance = distance\n",
    "                nearest_bus = bus\n",
    "        #보행자별 시행을 마치고 result에 값을 담음\n",
    "        results.append({\n",
    "                '보행자_위도': pedestrian['위도'],\n",
    "                '보행자_경도': pedestrian['경도'],\n",
    "                '가장_가까운_버스정류장': nearest_bus['설치 지점명'],  \n",
    "                '가장_가까운_정류장_위도': nearest_bus['위도'],\n",
    "                '가장_가까운_정류장_경도': nearest_bus['경도'],\n",
    "                '버스정류장으로부터_거리': min_distance\n",
    "            })\n",
    "        \n",
    "    return pd.DataFrame(results,index=df.index)"
   ]
  },
  {
   "cell_type": "code",
   "execution_count": 105,
   "metadata": {},
   "outputs": [],
   "source": [
    "df2=find_nearest_bus(df)"
   ]
  },
  {
   "cell_type": "code",
   "execution_count": 106,
   "metadata": {},
   "outputs": [
    {
     "data": {
      "text/html": [
       "<div>\n",
       "<style scoped>\n",
       "    .dataframe tbody tr th:only-of-type {\n",
       "        vertical-align: middle;\n",
       "    }\n",
       "\n",
       "    .dataframe tbody tr th {\n",
       "        vertical-align: top;\n",
       "    }\n",
       "\n",
       "    .dataframe thead th {\n",
       "        text-align: right;\n",
       "    }\n",
       "</style>\n",
       "<table border=\"1\" class=\"dataframe\">\n",
       "  <thead>\n",
       "    <tr style=\"text-align: right;\">\n",
       "      <th></th>\n",
       "      <th>보행자_위도</th>\n",
       "      <th>보행자_경도</th>\n",
       "      <th>가장_가까운_버스정류장</th>\n",
       "      <th>가장_가까운_정류장_위도</th>\n",
       "      <th>가장_가까운_정류장_경도</th>\n",
       "      <th>버스정류장으로부터_거리</th>\n",
       "    </tr>\n",
       "  </thead>\n",
       "  <tbody>\n",
       "    <tr>\n",
       "      <th>0</th>\n",
       "      <td>35.877721</td>\n",
       "      <td>127.076733</td>\n",
       "      <td>반월초교</td>\n",
       "      <td>35.876251</td>\n",
       "      <td>127.075730</td>\n",
       "      <td>186.788547</td>\n",
       "    </tr>\n",
       "    <tr>\n",
       "      <th>1</th>\n",
       "      <td>35.845234</td>\n",
       "      <td>127.121687</td>\n",
       "      <td>기린대로덕진공원</td>\n",
       "      <td>35.845746</td>\n",
       "      <td>127.121368</td>\n",
       "      <td>63.752142</td>\n",
       "    </tr>\n",
       "    <tr>\n",
       "      <th>2</th>\n",
       "      <td>35.806729</td>\n",
       "      <td>127.117422</td>\n",
       "      <td>안행교</td>\n",
       "      <td>35.806706</td>\n",
       "      <td>127.117581</td>\n",
       "      <td>14.569707</td>\n",
       "    </tr>\n",
       "    <tr>\n",
       "      <th>3</th>\n",
       "      <td>35.837220</td>\n",
       "      <td>127.138885</td>\n",
       "      <td>금암중앙하이츠</td>\n",
       "      <td>35.838063</td>\n",
       "      <td>127.137693</td>\n",
       "      <td>142.575979</td>\n",
       "    </tr>\n",
       "    <tr>\n",
       "      <th>4</th>\n",
       "      <td>35.832971</td>\n",
       "      <td>127.102032</td>\n",
       "      <td>서곡초교</td>\n",
       "      <td>35.832874</td>\n",
       "      <td>127.099705</td>\n",
       "      <td>210.031036</td>\n",
       "    </tr>\n",
       "  </tbody>\n",
       "</table>\n",
       "</div>"
      ],
      "text/plain": [
       "      보행자_위도      보행자_경도 가장_가까운_버스정류장  가장_가까운_정류장_위도  가장_가까운_정류장_경도  \\\n",
       "0  35.877721  127.076733         반월초교      35.876251     127.075730   \n",
       "1  35.845234  127.121687     기린대로덕진공원      35.845746     127.121368   \n",
       "2  35.806729  127.117422          안행교      35.806706     127.117581   \n",
       "3  35.837220  127.138885      금암중앙하이츠      35.838063     127.137693   \n",
       "4  35.832971  127.102032         서곡초교      35.832874     127.099705   \n",
       "\n",
       "   버스정류장으로부터_거리  \n",
       "0    186.788547  \n",
       "1     63.752142  \n",
       "2     14.569707  \n",
       "3    142.575979  \n",
       "4    210.031036  "
      ]
     },
     "execution_count": 106,
     "metadata": {},
     "output_type": "execute_result"
    }
   ],
   "source": [
    "df2.head()"
   ]
  },
  {
   "cell_type": "code",
   "execution_count": 122,
   "metadata": {},
   "outputs": [],
   "source": [
    "df2['버스_정류장_유무(10m)'] = df2['버스정류장으로부터_거리']<=10"
   ]
  },
  {
   "cell_type": "code",
   "execution_count": 123,
   "metadata": {},
   "outputs": [],
   "source": [
    "df2.to_csv('C:/Users/wjdtj/OneDrive - dgu.ac.kr/데이터 분석/교통사고/0524/bus.csv')"
   ]
  },
  {
   "cell_type": "code",
   "execution_count": 109,
   "metadata": {},
   "outputs": [],
   "source": [
    "df['가장_가까운_버스정류장']=df2['가장_가까운_버스정류장']\n",
    "df['버스정류장으로부터_거리']=df2['버스정류장으로부터_거리']"
   ]
  },
  {
   "cell_type": "code",
   "execution_count": 114,
   "metadata": {},
   "outputs": [
    {
     "data": {
      "text/plain": [
       "count     6737.000000\n",
       "mean       239.060520\n",
       "std       1035.969945\n",
       "min          1.485638\n",
       "25%         75.468532\n",
       "50%        138.170797\n",
       "75%        243.227696\n",
       "max      73223.311719\n",
       "Name: 버스정류장으로부터_거리, dtype: float64"
      ]
     },
     "execution_count": 114,
     "metadata": {},
     "output_type": "execute_result"
    }
   ],
   "source": [
    "df['버스정류장으로부터_거리'].describe()"
   ]
  },
  {
   "cell_type": "code",
   "execution_count": 118,
   "metadata": {},
   "outputs": [],
   "source": [
    "df['버스_정류장_유무'] = df['버스정류장으로부터_거리']<=10"
   ]
  },
  {
   "cell_type": "code",
   "execution_count": 119,
   "metadata": {},
   "outputs": [
    {
     "data": {
      "text/plain": [
       "버스_정류장_유무\n",
       "False    6678\n",
       "True       59\n",
       "Name: count, dtype: int64"
      ]
     },
     "execution_count": 119,
     "metadata": {},
     "output_type": "execute_result"
    }
   ],
   "source": [
    "df['버스_정류장_유무'].value_counts()"
   ]
  }
 ],
 "metadata": {
  "kernelspec": {
   "display_name": "jsy",
   "language": "python",
   "name": "jsy"
  },
  "language_info": {
   "codemirror_mode": {
    "name": "ipython",
    "version": 3
   },
   "file_extension": ".py",
   "mimetype": "text/x-python",
   "name": "python",
   "nbconvert_exporter": "python",
   "pygments_lexer": "ipython3",
   "version": "3.11.7"
  }
 },
 "nbformat": 4,
 "nbformat_minor": 2
}
