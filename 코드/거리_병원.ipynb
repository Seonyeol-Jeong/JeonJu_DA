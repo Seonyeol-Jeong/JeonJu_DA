{
 "cells": [
  {
   "cell_type": "code",
   "execution_count": 25,
   "metadata": {},
   "outputs": [],
   "source": [
    "import pandas as pd\n",
    "import numpy as np\n",
    "import matplotlib.pyplot as plt\n",
    "from pyproj import Proj, transform\n",
    "from haversine import haversine\n",
    "import seaborn as sns"
   ]
  },
  {
   "cell_type": "code",
   "execution_count": 2,
   "metadata": {},
   "outputs": [
    {
     "name": "stdout",
     "output_type": "stream",
     "text": [
      "Collecting haversine\n",
      "  Downloading haversine-2.8.1-py2.py3-none-any.whl.metadata (5.9 kB)\n",
      "Downloading haversine-2.8.1-py2.py3-none-any.whl (7.7 kB)\n",
      "Installing collected packages: haversine\n",
      "Successfully installed haversine-2.8.1\n",
      "Note: you may need to restart the kernel to use updated packages.\n"
     ]
    }
   ],
   "source": [
    "pip install haversine"
   ]
  },
  {
   "cell_type": "code",
   "execution_count": 4,
   "metadata": {},
   "outputs": [
    {
     "name": "stderr",
     "output_type": "stream",
     "text": [
      "c:\\Users\\wjdtj\\anaconda3\\Lib\\site-packages\\pyproj\\crs\\crs.py:141: FutureWarning: '+init=<authority>:<code>' syntax is deprecated. '<authority>:<code>' is the preferred initialization method. When making the change, be mindful of axis order changes: https://pyproj4.github.io/pyproj/stable/gotchas.html#axis-order-changes-in-proj-6\n",
      "  in_crs_string = _prepare_from_proj_string(in_crs_string)\n",
      "c:\\Users\\wjdtj\\anaconda3\\Lib\\site-packages\\pyproj\\crs\\crs.py:141: FutureWarning: '+init=<authority>:<code>' syntax is deprecated. '<authority>:<code>' is the preferred initialization method. When making the change, be mindful of axis order changes: https://pyproj4.github.io/pyproj/stable/gotchas.html#axis-order-changes-in-proj-6\n",
      "  in_crs_string = _prepare_from_proj_string(in_crs_string)\n"
     ]
    }
   ],
   "source": [
    "# UTM좌표를 WGS84로 변환\n",
    "\n",
    "proj_UTM = Proj(init = 'epsg:5181')\n",
    "proj_WGS84 = Proj(init='epsg:4326')\n",
    "\n",
    "def UTM_to_WGS(df):\n",
    "    X,Y = transform(proj_UTM,proj_WGS84,df['위치정보X'],df['위치정보Y'])\n",
    "    return pd.DataFrame({'위도':Y,'경도':X},index = df.index)"
   ]
  },
  {
   "cell_type": "code",
   "execution_count": 10,
   "metadata": {},
   "outputs": [],
   "source": [
    "df_hospital = pd.read_csv(\"C:/Users/wjdtj/OneDrive - dgu.ac.kr/데이터 분석/교통사고/병원/전북특별자치도 전주시_병원_20240118.csv\",encoding='cp949')\n",
    "\n",
    "def find_nearest_hospital(df):\n",
    "    print('결측치 수:',df['위치정보X'].isna().sum())\n",
    "    results = [] #결과를 담을 객체 생성\n",
    "\n",
    "    for _, pedestrian in UTM_to_WGS(df).dropna().iterrows(): # 보행자의 위치별로 시행\n",
    "        #가까운 학교와 최소 거리 초기화\n",
    "        min_distance = float('inf')\n",
    "        nearest_hospital = None\n",
    "\n",
    "        for _, hospital in df_hospital.iterrows(): #보행자별 각 학교 시행\n",
    "            hospital_location = (hospital['위도'], hospital['경도'])\n",
    "            pedestrian_location = (pedestrian['위도'], pedestrian['경도'])\n",
    "\n",
    "            #거리계산\n",
    "            distance = haversine(pedestrian_location, hospital_location, unit='m') #거리 기준 변환가능\n",
    "            \n",
    "            if distance < min_distance: #최소거리와 학교를 담음\n",
    "                min_distance = distance\n",
    "                nearest_hospital = hospital\n",
    "        #보행자별 시행을 마치고 result에 값을 담음\n",
    "        results.append({\n",
    "                '보행자_위도': pedestrian['위도'],\n",
    "                '보행자_경도': pedestrian['경도'],\n",
    "                '가장_가까운_병원': nearest_hospital['사업장명'],  # 학교명이 있는 열로 변경\n",
    "                '가장_가까운_병원_위도': nearest_hospital['위도'],\n",
    "                '가장_가까운_병원_경도': nearest_hospital['경도'],\n",
    "                '거리': min_distance\n",
    "            })\n",
    "        \n",
    "    return pd.DataFrame(results,index=df['위치정보X'].dropna().index)"
   ]
  },
  {
   "cell_type": "code",
   "execution_count": 11,
   "metadata": {},
   "outputs": [
    {
     "data": {
      "text/html": [
       "<div>\n",
       "<style scoped>\n",
       "    .dataframe tbody tr th:only-of-type {\n",
       "        vertical-align: middle;\n",
       "    }\n",
       "\n",
       "    .dataframe tbody tr th {\n",
       "        vertical-align: top;\n",
       "    }\n",
       "\n",
       "    .dataframe thead th {\n",
       "        text-align: right;\n",
       "    }\n",
       "</style>\n",
       "<table border=\"1\" class=\"dataframe\">\n",
       "  <thead>\n",
       "    <tr style=\"text-align: right;\">\n",
       "      <th></th>\n",
       "      <th>사업장명</th>\n",
       "      <th>인허가일자</th>\n",
       "      <th>상세영업상태명</th>\n",
       "      <th>소재지전화</th>\n",
       "      <th>도로명주소</th>\n",
       "      <th>지번주소</th>\n",
       "      <th>위도</th>\n",
       "      <th>경도</th>\n",
       "      <th>업태구분명</th>\n",
       "      <th>의료기관종별명</th>\n",
       "      <th>의료인수</th>\n",
       "      <th>입원실수</th>\n",
       "      <th>병상수</th>\n",
       "      <th>총면적</th>\n",
       "      <th>진료과목내용명</th>\n",
       "      <th>데이터기준일자</th>\n",
       "    </tr>\n",
       "  </thead>\n",
       "  <tbody>\n",
       "    <tr>\n",
       "      <th>0</th>\n",
       "      <td>가람한방병원</td>\n",
       "      <td>2014-04-30</td>\n",
       "      <td>영업중</td>\n",
       "      <td>063-270-8600</td>\n",
       "      <td>전북특별자치도 전주시 덕진구 송천중앙로 60, 3~6층 (송천동1가)</td>\n",
       "      <td>전북특별자치도 전주시 덕진구 송천동1가 270-1</td>\n",
       "      <td>35.852438</td>\n",
       "      <td>127.120224</td>\n",
       "      <td>한방병원</td>\n",
       "      <td>한방병원</td>\n",
       "      <td>4</td>\n",
       "      <td>31</td>\n",
       "      <td>83</td>\n",
       "      <td>1530.26</td>\n",
       "      <td>가정의학과+한방내과+한방부인과+한방소아과+한방안·이비인후·피부과+한방신경정신과+한방...</td>\n",
       "      <td>2024-01-18</td>\n",
       "    </tr>\n",
       "    <tr>\n",
       "      <th>1</th>\n",
       "      <td>나은요양병원</td>\n",
       "      <td>2012-06-26</td>\n",
       "      <td>영업중</td>\n",
       "      <td>063-715-2300</td>\n",
       "      <td>전북특별자치도 전주시 덕진구 기린대로 951 (여의동)</td>\n",
       "      <td>전북특별자치도 전주시 덕진구 여의동 558-4</td>\n",
       "      <td>35.864427</td>\n",
       "      <td>127.080650</td>\n",
       "      <td>요양병원(일반요양병원)</td>\n",
       "      <td>요양병원(일반요양병원)</td>\n",
       "      <td>23</td>\n",
       "      <td>37</td>\n",
       "      <td>210</td>\n",
       "      <td>4311.40</td>\n",
       "      <td>내과+외과+가정의학과+한방내과+침구과</td>\n",
       "      <td>2024-01-18</td>\n",
       "    </tr>\n",
       "    <tr>\n",
       "      <th>2</th>\n",
       "      <td>누가한방병원</td>\n",
       "      <td>2009-11-04</td>\n",
       "      <td>영업중</td>\n",
       "      <td>063-252-9111</td>\n",
       "      <td>전북특별자치도 전주시 덕진구 안덕원로 218 (인후동1가)</td>\n",
       "      <td>전북특별자치도 전주시 덕진구 인후동1가 594-14</td>\n",
       "      <td>35.835934</td>\n",
       "      <td>127.150924</td>\n",
       "      <td>한방병원</td>\n",
       "      <td>한방병원</td>\n",
       "      <td>3</td>\n",
       "      <td>18</td>\n",
       "      <td>84</td>\n",
       "      <td>1476.70</td>\n",
       "      <td>마취통증의학과+한방내과+한방부인과+한방소아과+한방안·이비인후·피부과+한방신경정신과+...</td>\n",
       "      <td>2024-01-18</td>\n",
       "    </tr>\n",
       "    <tr>\n",
       "      <th>3</th>\n",
       "      <td>다사랑병원</td>\n",
       "      <td>2005-03-16</td>\n",
       "      <td>영업중</td>\n",
       "      <td>063-228-5540</td>\n",
       "      <td>전북특별자치도 전주시 완산구 백제대로 74 (삼천동1가)</td>\n",
       "      <td>전북특별자치도 전주시 완산구 삼천동1가 732-3</td>\n",
       "      <td>35.800878</td>\n",
       "      <td>127.127854</td>\n",
       "      <td>병원</td>\n",
       "      <td>병원</td>\n",
       "      <td>9</td>\n",
       "      <td>32</td>\n",
       "      <td>94</td>\n",
       "      <td>2379.94</td>\n",
       "      <td>내과+외과+정형외과+소아청소년과+응급의학과</td>\n",
       "      <td>2024-01-18</td>\n",
       "    </tr>\n",
       "    <tr>\n",
       "      <th>4</th>\n",
       "      <td>대자인병원</td>\n",
       "      <td>2012-05-01</td>\n",
       "      <td>영업중</td>\n",
       "      <td>063-240-2000</td>\n",
       "      <td>전북특별자치도 전주시 덕진구 견훤로 390 (우아동3가)</td>\n",
       "      <td>전북특별자치도 전주시 덕진구 우아동3가 734-17</td>\n",
       "      <td>35.845991</td>\n",
       "      <td>127.153316</td>\n",
       "      <td>종합병원</td>\n",
       "      <td>종합병원</td>\n",
       "      <td>177</td>\n",
       "      <td>159</td>\n",
       "      <td>568</td>\n",
       "      <td>20505.60</td>\n",
       "      <td>내과+신경과+정신건강의학과+외과+정형외과+신경외과+흉부외과+마취통증의학과+산부인과+...</td>\n",
       "      <td>2024-01-18</td>\n",
       "    </tr>\n",
       "  </tbody>\n",
       "</table>\n",
       "</div>"
      ],
      "text/plain": [
       "     사업장명       인허가일자 상세영업상태명         소재지전화  \\\n",
       "0  가람한방병원  2014-04-30     영업중  063-270-8600   \n",
       "1  나은요양병원  2012-06-26     영업중  063-715-2300   \n",
       "2  누가한방병원  2009-11-04     영업중  063-252-9111   \n",
       "3   다사랑병원  2005-03-16     영업중  063-228-5540   \n",
       "4   대자인병원  2012-05-01     영업중  063-240-2000   \n",
       "\n",
       "                                    도로명주소                          지번주소  \\\n",
       "0  전북특별자치도 전주시 덕진구 송천중앙로 60, 3~6층 (송천동1가)   전북특별자치도 전주시 덕진구 송천동1가 270-1   \n",
       "1          전북특별자치도 전주시 덕진구 기린대로 951 (여의동)     전북특별자치도 전주시 덕진구 여의동 558-4   \n",
       "2        전북특별자치도 전주시 덕진구 안덕원로 218 (인후동1가)  전북특별자치도 전주시 덕진구 인후동1가 594-14   \n",
       "3         전북특별자치도 전주시 완산구 백제대로 74 (삼천동1가)   전북특별자치도 전주시 완산구 삼천동1가 732-3   \n",
       "4         전북특별자치도 전주시 덕진구 견훤로 390 (우아동3가)  전북특별자치도 전주시 덕진구 우아동3가 734-17   \n",
       "\n",
       "          위도          경도         업태구분명       의료기관종별명  의료인수  입원실수  병상수  \\\n",
       "0  35.852438  127.120224          한방병원          한방병원     4    31   83   \n",
       "1  35.864427  127.080650  요양병원(일반요양병원)  요양병원(일반요양병원)    23    37  210   \n",
       "2  35.835934  127.150924          한방병원          한방병원     3    18   84   \n",
       "3  35.800878  127.127854            병원            병원     9    32   94   \n",
       "4  35.845991  127.153316          종합병원          종합병원   177   159  568   \n",
       "\n",
       "        총면적                                            진료과목내용명     데이터기준일자  \n",
       "0   1530.26  가정의학과+한방내과+한방부인과+한방소아과+한방안·이비인후·피부과+한방신경정신과+한방...  2024-01-18  \n",
       "1   4311.40                               내과+외과+가정의학과+한방내과+침구과  2024-01-18  \n",
       "2   1476.70  마취통증의학과+한방내과+한방부인과+한방소아과+한방안·이비인후·피부과+한방신경정신과+...  2024-01-18  \n",
       "3   2379.94                            내과+외과+정형외과+소아청소년과+응급의학과  2024-01-18  \n",
       "4  20505.60  내과+신경과+정신건강의학과+외과+정형외과+신경외과+흉부외과+마취통증의학과+산부인과+...  2024-01-18  "
      ]
     },
     "execution_count": 11,
     "metadata": {},
     "output_type": "execute_result"
    }
   ],
   "source": [
    "df_hospital.head()"
   ]
  },
  {
   "cell_type": "code",
   "execution_count": 12,
   "metadata": {},
   "outputs": [
    {
     "name": "stdout",
     "output_type": "stream",
     "text": [
      "결측치 수: 0\n"
     ]
    },
    {
     "name": "stderr",
     "output_type": "stream",
     "text": [
      "C:\\Users\\wjdtj\\AppData\\Local\\Temp\\ipykernel_26176\\2148585781.py:7: FutureWarning: This function is deprecated. See: https://pyproj4.github.io/pyproj/stable/gotchas.html#upgrading-to-pyproj-2-from-pyproj-1\n",
      "  X,Y = transform(proj_UTM,proj_WGS84,df['위치정보X'],df['위치정보Y'])\n"
     ]
    }
   ],
   "source": [
    "df=pd.read_csv(\"C:/Users/wjdtj/OneDrive - dgu.ac.kr/데이터 분석/교통사고/오토바이/0518 좌표/좌표.저녁_old.csv\")\n",
    "dist_from_hospital = find_nearest_hospital(df)"
   ]
  },
  {
   "cell_type": "code",
   "execution_count": 35,
   "metadata": {},
   "outputs": [
    {
     "name": "stderr",
     "output_type": "stream",
     "text": [
      "c:\\Users\\wjdtj\\anaconda3\\Lib\\site-packages\\seaborn\\_oldcore.py:1119: FutureWarning: use_inf_as_na option is deprecated and will be removed in a future version. Convert inf values to NaN before operating instead.\n",
      "  with pd.option_context('mode.use_inf_as_na', True):\n",
      "c:\\Users\\wjdtj\\anaconda3\\Lib\\site-packages\\IPython\\core\\pylabtools.py:152: UserWarning: Glyph 44144 (\\N{HANGUL SYLLABLE GEO}) missing from current font.\n",
      "  fig.canvas.print_figure(bytes_io, **kw)\n",
      "c:\\Users\\wjdtj\\anaconda3\\Lib\\site-packages\\IPython\\core\\pylabtools.py:152: UserWarning: Glyph 47532 (\\N{HANGUL SYLLABLE RI}) missing from current font.\n",
      "  fig.canvas.print_figure(bytes_io, **kw)\n"
     ]
    },
    {
     "data": {
      "image/png": "[encoded data removed]",
      "text/plain": [
       "<Figure size 640x480 with 1 Axes>"
      ]
     },
     "metadata": {},
     "output_type": "display_data"
    }
   ],
   "source": [
    "sns.histplot(dist_from_hospital['거리'],bins=40)\n",
    "plt.show()"
   ]
  },
  {
   "cell_type": "code",
   "execution_count": 20,
   "metadata": {},
   "outputs": [
    {
     "name": "stdout",
     "output_type": "stream",
     "text": [
      "병원과 300m 이내에서 사고난 비율 0.312\n",
      "\n",
      "병원과 400m 이내에서 사고난 비율 0.458\n",
      "\n",
      "병원과 500m 이내에서 사고난 비율 0.542\n"
     ]
    }
   ],
   "source": [
    "print('병원과 300m 이내에서 사고난 비율',np.round((dist_from_hospital['거리']<=300).sum()/len(dist_from_hospital),3))\n",
    "\n",
    "print('\\n병원과 400m 이내에서 사고난 비율',np.round((dist_from_hospital['거리']<=400).sum()/len(dist_from_hospital),3))\n",
    "\n",
    "print('\\n병원과 500m 이내에서 사고난 비율',np.round((dist_from_hospital['거리']<=500).sum()/len(dist_from_hospital),3))"
   ]
  },
  {
   "cell_type": "code",
   "execution_count": null,
   "metadata": {},
   "outputs": [],
   "source": []
  }
 ],
 "metadata": {
  "kernelspec": {
   "display_name": "jsy",
   "language": "python",
   "name": "jsy"
  },
  "language_info": {
   "codemirror_mode": {
    "name": "ipython",
    "version": 3
   },
   "file_extension": ".py",
   "mimetype": "text/x-python",
   "name": "python",
   "nbconvert_exporter": "python",
   "pygments_lexer": "ipython3",
   "version": "3.11.7"
  }
 },
 "nbformat": 4,
 "nbformat_minor": 2
}
