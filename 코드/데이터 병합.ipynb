{
 "cells": [
  {
   "cell_type": "code",
   "execution_count": 1,
   "metadata": {},
   "outputs": [],
   "source": [
    "import numpy as np\n",
    "import pandas as pd\n",
    "import matplotlib.pyplot as plt\n",
    "import seaborn as sns\n",
    "sns.set_palette('Set2')\n",
    "\n",
    "#한글폰트 가져오기\n",
    "from matplotlib import rc\n",
    "rc('font', family='NanumGothic')\n",
    "plt.rcParams['axes.unicode_minus'] = False #음수에 (-)표현\n",
    "\n",
    "# Warning 메세지를 뜨지 않게 해줌\n",
    "import warnings\n",
    "warnings.filterwarnings('ignore')\n",
    "\n",
    "from pyproj import Proj, transform\n",
    "from scipy.spatial import KDTree\n",
    "from haversine import haversine"
   ]
  },
  {
   "cell_type": "code",
   "execution_count": 27,
   "metadata": {},
   "outputs": [],
   "source": [
    "df_14=pd.read_csv(\"C:/Users/wjdtj/OneDrive - dgu.ac.kr/데이터 분석/교통사고/0525/df_14_16.csv\",encoding='cp949')\n",
    "df_17=pd.read_csv(\"C:/Users/wjdtj/OneDrive - dgu.ac.kr/데이터 분석/교통사고/0525/df_17_19.csv\",encoding='cp949')"
   ]
  },
  {
   "cell_type": "code",
   "execution_count": 28,
   "metadata": {},
   "outputs": [],
   "source": [
    "# 나이 \n",
    "df_14=df_14[(df_14['환자연령']<130)&(df_14['환자연령']>0)]\n",
    "df_17=df_17[(df_17['환자연령']<130)&(df_17['환자연령']>0)]\n"
   ]
  },
  {
   "cell_type": "code",
   "execution_count": 29,
   "metadata": {},
   "outputs": [],
   "source": [
    "# 위치정보\n",
    "df_14.dropna(subset=['위치정보X','위치정보Y'],inplace=True)\n",
    "df_17.dropna(subset=['위치정보X','위치정보Y'],inplace=True)"
   ]
  },
  {
   "cell_type": "code",
   "execution_count": 33,
   "metadata": {},
   "outputs": [],
   "source": [
    "from pyproj import Proj, transform\n",
    "\n",
    "proj_5181 = Proj(init='epsg:5181')\n",
    "proj_4326 = Proj(init='epsg:4326')\n",
    "\n",
    "def convert_5181_to_4326(x, y):\n",
    "    # EPSG:5181에서 EPSG:4326으로 변환\n",
    "    lon, lat = transform(proj_5181, proj_4326, x, y)\n",
    "    return lat, lon\n"
   ]
  },
  {
   "cell_type": "code",
   "execution_count": 34,
   "metadata": {},
   "outputs": [],
   "source": [
    "df_14['위도'],df_14['경도']=convert_5181_to_4326(df_14['위치정보X'], df_14['위치정보Y'])\n",
    "df_17['위도'],df_17['경도']=convert_5181_to_4326(df_17['위치정보X'], df_17['위치정보Y'])"
   ]
  },
  {
   "cell_type": "code",
   "execution_count": 35,
   "metadata": {},
   "outputs": [],
   "source": [
    "df_14 = df_14[df_14['경도']>126.85]\n",
    "df_17 = df_17[df_17['경도']>126.85]"
   ]
  },
  {
   "cell_type": "markdown",
   "metadata": {},
   "source": [
    "## 밀도"
   ]
  },
  {
   "cell_type": "code",
   "execution_count": 30,
   "metadata": {},
   "outputs": [],
   "source": [
    "# 밀도 계산\n",
    "def calculate_density(df, x_col='위치정보X', y_col='위치정보Y', radius=100): #radius (float): 거리 반경 (기본값 100 미터).\n",
    "\n",
    "    # UTM 좌표에서 경위도 좌표로 변환\n",
    "    utm_proj = Proj(init = 'epsg:5181')\n",
    "    latlon_proj = Proj(init='epsg:4326')\n",
    "    \n",
    "    df = df.dropna(subset=[x_col, y_col]) #na를 데이터 프레임에서 아예 없애버림\n",
    "    lon, lat = transform(utm_proj, latlon_proj, df[x_col].values, df[y_col].values)\n",
    "    df['경도'] = lon\n",
    "    df['위도'] = lat\n",
    "    \n",
    "    # KDTree를 이용한 거리 계산 및 밀도 추정\n",
    "    coords = np.vstack([lon, lat]).T\n",
    "    tree = KDTree(coords)\n",
    "    \n",
    "    # 각 점 주변 반경 내 점의 개수를 센다\n",
    "    densities = tree.query_ball_point(coords, r=radius / 111000)  # 111000 미터는 1도 위도\n",
    "    density = [len(points) for points in densities]\n",
    "    \n",
    "    return density"
   ]
  },
  {
   "cell_type": "code",
   "execution_count": 31,
   "metadata": {},
   "outputs": [],
   "source": [
    "df_14['밀도'] = calculate_density(df_14)\n",
    "df_17['밀도'] = calculate_density(df_17)"
   ]
  },
  {
   "cell_type": "code",
   "execution_count": 15,
   "metadata": {},
   "outputs": [],
   "source": [
    "# UTM좌표를 WGS84로 변환\n",
    "proj_UTM = Proj(init = 'epsg:5181')\n",
    "proj_WGS84 = Proj(init='epsg:4326')\n",
    "df_14['경도'],df_14['위도'] = transform(proj_UTM,proj_WGS84,df_14['위치정보X'],df_14['위치정보Y'])\n",
    "\n",
    "\n",
    "from sklearn.neighbors import KernelDensity\n",
    "\n",
    "data = df_14[['위도','경도']]\n",
    "\n",
    "# 커널 밀도 추정을 위한 100미터에 해당하는 밴드폭 설정\n",
    "bandwidth = 0.0009\n",
    "\n",
    "kde = KernelDensity(bandwidth=bandwidth, kernel='gaussian')\n",
    "kde.fit(data)\n",
    "\n",
    "# 각 데이터 포인트의 로그 밀도 값 계산\n",
    "log_density_values = kde.score_samples(data)\n",
    "\n",
    "# 로그 밀도 값을 지수 함수로 변환하여 실제 밀도 값 계산\n",
    "density_values = np.exp(log_density_values)\n",
    "\n",
    "df_14['밀도_kde'] = density_values"
   ]
  },
  {
   "cell_type": "code",
   "execution_count": 23,
   "metadata": {},
   "outputs": [],
   "source": [
    "# UTM좌표를 WGS84로 변환\n",
    "proj_UTM = Proj(init = 'epsg:5181')\n",
    "proj_WGS84 = Proj(init='epsg:4326')\n",
    "df_17['경도'],df_17['위도'] = transform(proj_UTM,proj_WGS84,df_17['위치정보X'],df_17['위치정보Y'])\n",
    "\n",
    "\n",
    "from sklearn.neighbors import KernelDensity\n",
    "\n",
    "data = df_17[['위도','경도']]\n",
    "\n",
    "# 커널 밀도 추정을 위한 100미터에 해당하는 밴드폭 설정\n",
    "bandwidth = 0.0009\n",
    "\n",
    "kde = KernelDensity(bandwidth=bandwidth, kernel='gaussian')\n",
    "kde.fit(data)\n",
    "\n",
    "# 각 데이터 포인트의 로그 밀도 값 계산\n",
    "log_density_values = kde.score_samples(data)\n",
    "\n",
    "# 로그 밀도 값을 지수 함수로 변환하여 실제 밀도 값 계산\n",
    "density_values = np.exp(log_density_values)\n",
    "\n",
    "df_17['밀도_kde'] = density_values"
   ]
  },
  {
   "cell_type": "code",
   "execution_count": null,
   "metadata": {},
   "outputs": [],
   "source": [
    "# 학교"
   ]
  },
  {
   "cell_type": "code",
   "execution_count": null,
   "metadata": {},
   "outputs": [],
   "source": [
    "# 교차로"
   ]
  },
  {
   "cell_type": "code",
   "execution_count": null,
   "metadata": {},
   "outputs": [],
   "source": [
    "# 버스정류장"
   ]
  }
 ],
 "metadata": {
  "kernelspec": {
   "display_name": "jsy",
   "language": "python",
   "name": "jsy"
  },
  "language_info": {
   "codemirror_mode": {
    "name": "ipython",
    "version": 3
   },
   "file_extension": ".py",
   "mimetype": "text/x-python",
   "name": "python",
   "nbconvert_exporter": "python",
   "pygments_lexer": "ipython3",
   "version": "3.11.7"
  }
 },
 "nbformat": 4,
 "nbformat_minor": 2
}
